{
  "nbformat": 4,
  "nbformat_minor": 0,
  "metadata": {
    "colab": {
      "provenance": []
    },
    "kernelspec": {
      "name": "ir",
      "display_name": "R"
    },
    "language_info": {
      "name": "R"
    }
  },
  "cells": [
    {
      "cell_type": "markdown",
      "source": [
        "# **Passo 1: Instalar as Bibliotecas**\n",
        "\n",
        "**Antes de começar a análise, precisamos instalar os pacotes necessários**"
      ],
      "metadata": {
        "id": "bhIBeRmNxoUU"
      }
    },
    {
      "cell_type": "code",
      "execution_count": null,
      "metadata": {
        "id": "z272o4vAwxs9",
        "colab": {
          "base_uri": "https://localhost:8080/"
        },
        "outputId": "1d36e70f-339d-4648-c173-27670b47a00d"
      },
      "outputs": [
        {
          "output_type": "stream",
          "name": "stderr",
          "text": [
            "Installing package into ‘/usr/local/lib/R/site-library’\n",
            "(as ‘lib’ is unspecified)\n",
            "\n",
            "also installing the dependency ‘stargazer’\n",
            "\n",
            "\n",
            "Installing package into ‘/usr/local/lib/R/site-library’\n",
            "(as ‘lib’ is unspecified)\n",
            "\n"
          ]
        }
      ],
      "source": [
        "# Instalar bibliotecas\n",
        "install.packages('ExpDes.pt')  # Pacote para análises estatísticas experimentais\n",
        "install.packages('readxl')      # Pacote para ler arquivos do Excel"
      ]
    },
    {
      "cell_type": "markdown",
      "source": [
        "**📌 ExpDes.pt: Facilita análises experimentais como ANOVA e Testes de Médias.**\n",
        "\n",
        "**📌 readxl: Permite a importação de arquivos do Excel para o R.**"
      ],
      "metadata": {
        "id": "zJOG9ZxEzrJj"
      }
    },
    {
      "cell_type": "markdown",
      "source": [
        "# **Passo 2: Importar as Bibliotecas**\n",
        "\n",
        "**Após a instalação, carregamos as bibliotecas para usá-las no código.**"
      ],
      "metadata": {
        "id": "Oq8KSDqM0OIR"
      }
    },
    {
      "cell_type": "code",
      "source": [
        "# Importar Bibliotecas\n",
        "library('ExpDes.pt')\n",
        "library('readxl')"
      ],
      "metadata": {
        "id": "gdb0it0C0LXr"
      },
      "execution_count": null,
      "outputs": []
    },
    {
      "cell_type": "markdown",
      "source": [
        "**📌 library() carrega os pacotes para serem utilizados no ambiente do R.**"
      ],
      "metadata": {
        "id": "EGR0mR3b0z0c"
      }
    },
    {
      "cell_type": "markdown",
      "source": [
        "# **Passo 3: Importar os Dados**\n",
        "\n",
        "**Agora, importamos o arquivo Excel que contém os dados do experimento.**"
      ],
      "metadata": {
        "id": "Vsh4XGg502Wi"
      }
    },
    {
      "cell_type": "code",
      "source": [
        "# Importando os dados\n",
        "dados <- read_excel('/content/mini_curso_fat2_dbc.xlsx')"
      ],
      "metadata": {
        "id": "_4lKnUDl09kp"
      },
      "execution_count": null,
      "outputs": []
    },
    {
      "cell_type": "markdown",
      "source": [
        "**📌 read_excel() lê arquivos do Excel. O caminho do arquivo deve estar correto.**\n",
        "\n",
        "**❗ Dica: Se o arquivo estiver no Google Drive, primeiro ele precisa ser carregado para a pasta correta.**\n"
      ],
      "metadata": {
        "id": "Eq-mdyU31BZ7"
      }
    },
    {
      "cell_type": "markdown",
      "source": [
        "# **Passo 4: Visualizar os Dados**\n",
        "\n",
        "**É sempre importante verificar os dados antes de realizar análises.**"
      ],
      "metadata": {
        "id": "tbTE8ODf1H9Z"
      }
    },
    {
      "cell_type": "code",
      "source": [
        "# Ler os primeiros registros do dataset\n",
        "head(dados)"
      ],
      "metadata": {
        "id": "NG05RtMV1Tab",
        "colab": {
          "base_uri": "https://localhost:8080/",
          "height": 286
        },
        "outputId": "e2575a79-b5d3-47d1-bd27-ff1792210b6d"
      },
      "execution_count": null,
      "outputs": [
        {
          "output_type": "display_data",
          "data": {
            "text/html": [
              "<table class=\"dataframe\">\n",
              "<caption>A tibble: 6 × 5</caption>\n",
              "<thead>\n",
              "\t<tr><th scope=col>clones</th><th scope=col>blocos</th><th scope=col>espacamento</th><th scope=col>diametro</th><th scope=col>altura</th></tr>\n",
              "\t<tr><th scope=col>&lt;chr&gt;</th><th scope=col>&lt;dbl&gt;</th><th scope=col>&lt;dbl&gt;</th><th scope=col>&lt;dbl&gt;</th><th scope=col>&lt;dbl&gt;</th></tr>\n",
              "</thead>\n",
              "<tbody>\n",
              "\t<tr><td>Euca1</td><td>1</td><td>2.0</td><td> 3.87</td><td>12.07</td></tr>\n",
              "\t<tr><td>Euca1</td><td>1</td><td>2.5</td><td> 5.58</td><td>11.20</td></tr>\n",
              "\t<tr><td>Euca1</td><td>1</td><td>5.0</td><td> 9.83</td><td>11.96</td></tr>\n",
              "\t<tr><td>Euca1</td><td>1</td><td>6.0</td><td>11.52</td><td>11.37</td></tr>\n",
              "\t<tr><td>Euca1</td><td>1</td><td>7.5</td><td>14.84</td><td>12.02</td></tr>\n",
              "\t<tr><td>Euca1</td><td>2</td><td>2.0</td><td> 4.14</td><td>13.44</td></tr>\n",
              "</tbody>\n",
              "</table>\n"
            ],
            "text/markdown": "\nA tibble: 6 × 5\n\n| clones &lt;chr&gt; | blocos &lt;dbl&gt; | espacamento &lt;dbl&gt; | diametro &lt;dbl&gt; | altura &lt;dbl&gt; |\n|---|---|---|---|---|\n| Euca1 | 1 | 2.0 |  3.87 | 12.07 |\n| Euca1 | 1 | 2.5 |  5.58 | 11.20 |\n| Euca1 | 1 | 5.0 |  9.83 | 11.96 |\n| Euca1 | 1 | 6.0 | 11.52 | 11.37 |\n| Euca1 | 1 | 7.5 | 14.84 | 12.02 |\n| Euca1 | 2 | 2.0 |  4.14 | 13.44 |\n\n",
            "text/latex": "A tibble: 6 × 5\n\\begin{tabular}{lllll}\n clones & blocos & espacamento & diametro & altura\\\\\n <chr> & <dbl> & <dbl> & <dbl> & <dbl>\\\\\n\\hline\n\t Euca1 & 1 & 2.0 &  3.87 & 12.07\\\\\n\t Euca1 & 1 & 2.5 &  5.58 & 11.20\\\\\n\t Euca1 & 1 & 5.0 &  9.83 & 11.96\\\\\n\t Euca1 & 1 & 6.0 & 11.52 & 11.37\\\\\n\t Euca1 & 1 & 7.5 & 14.84 & 12.02\\\\\n\t Euca1 & 2 & 2.0 &  4.14 & 13.44\\\\\n\\end{tabular}\n",
            "text/plain": [
              "  clones blocos espacamento diametro altura\n",
              "1 Euca1  1      2.0          3.87    12.07 \n",
              "2 Euca1  1      2.5          5.58    11.20 \n",
              "3 Euca1  1      5.0          9.83    11.96 \n",
              "4 Euca1  1      6.0         11.52    11.37 \n",
              "5 Euca1  1      7.5         14.84    12.02 \n",
              "6 Euca1  2      2.0          4.14    13.44 "
            ]
          },
          "metadata": {}
        }
      ]
    },
    {
      "cell_type": "markdown",
      "source": [
        "**📌 head() mostra as primeiras linhas do conjunto de dados.**"
      ],
      "metadata": {
        "id": "l_sVPHeP1V5J"
      }
    },
    {
      "cell_type": "markdown",
      "source": [
        "# **Passo 5: Resumo Estatístico dos Dados**\n",
        "\n",
        "**Podemos obter estatísticas descritivas rapidamente com a função summary().**"
      ],
      "metadata": {
        "id": "OYfcueQf1XbR"
      }
    },
    {
      "cell_type": "code",
      "source": [
        "# Resumo estatístico dos dados\n",
        "summary(dados)"
      ],
      "metadata": {
        "id": "t98bXwO91vHd",
        "colab": {
          "base_uri": "https://localhost:8080/",
          "height": 260
        },
        "outputId": "09578856-1d97-43f0-9ebb-f49bece730a3"
      },
      "execution_count": null,
      "outputs": [
        {
          "output_type": "display_data",
          "data": {
            "text/plain": [
              "    clones              blocos      espacamento     diametro     \n",
              " Length:60          Min.   :1.00   Min.   :2.0   Min.   : 3.110  \n",
              " Class :character   1st Qu.:1.75   1st Qu.:2.5   1st Qu.: 5.155  \n",
              " Mode  :character   Median :2.50   Median :5.0   Median :10.250  \n",
              "                    Mean   :2.50   Mean   :4.6   Mean   : 9.571  \n",
              "                    3rd Qu.:3.25   3rd Qu.:6.0   3rd Qu.:13.268  \n",
              "                    Max.   :4.00   Max.   :7.5   Max.   :17.270  \n",
              "     altura     \n",
              " Min.   :10.89  \n",
              " 1st Qu.:11.77  \n",
              " Median :12.21  \n",
              " Mean   :12.20  \n",
              " 3rd Qu.:12.65  \n",
              " Max.   :13.82  "
            ]
          },
          "metadata": {}
        }
      ]
    },
    {
      "cell_type": "markdown",
      "source": [
        "**📌 O summary() fornece informações como:**\n",
        "\n",
        "**✔ Mínimo, máximo, média e mediana das variáveis numéricas.**\n",
        "\n",
        "**✔ Frequência de variáveis categóricas.**"
      ],
      "metadata": {
        "id": "0wOYzBTu1xoi"
      }
    },
    {
      "cell_type": "markdown",
      "source": [
        "# **Passo 6: Analisar a Distribuição da Variável \"Altura\"**\n",
        "\n",
        "**Para visualizar a distribuição dos dados, utilizamos um histograma.**"
      ],
      "metadata": {
        "id": "Mn9qYUV_13J5"
      }
    },
    {
      "cell_type": "code",
      "source": [
        "# Avaliar distribuição da variável \"altura\"\n",
        "hist(dados$diametro,\n",
        "     main='Frequência de distribuição de dados',\n",
        "     xlab='altura',\n",
        "     col='blue',\n",
        "     border='black')"
      ],
      "metadata": {
        "id": "MOMkry1U19w5",
        "colab": {
          "base_uri": "https://localhost:8080/",
          "height": 437
        },
        "outputId": "a4592c05-1a44-4071-ae78-d762694012c8"
      },
      "execution_count": null,
      "outputs": [
        {
          "output_type": "display_data",
          "data": {
            "text/plain": [
              "Plot with title “Frequência de distribuição de dados”"
            ],
            "image/png": "[encoded data removed]"
          },
          "metadata": {
            "image/png": {
              "width": 420,
              "height": 420
            }
          }
        }
      ]
    },
    {
      "cell_type": "markdown",
      "source": [
        "**📌 O hist() cria um histograma, permitindo verificar a normalidade dos dados.**"
      ],
      "metadata": {
        "id": "6ST-KLBl1-Wj"
      }
    },
    {
      "cell_type": "markdown",
      "source": [
        "# **Passo 7: Boxplot da Variável**\n",
        "\n",
        "**O boxplot é uma ferramenta útil para visualizar a dispersão dos dados e identificar possíveis outliers.**"
      ],
      "metadata": {
        "id": "z2bqoKxb4Vj6"
      }
    },
    {
      "cell_type": "code",
      "source": [
        "# Criar um boxplot para a variável \"altura\"\n",
        "boxplot(dados$altura,\n",
        "        main = \"Boxplot da Altura\",\n",
        "        ylab = \"Altura (m)\", col = \"lightblue\",\n",
        "        border = \"black\")"
      ],
      "metadata": {
        "id": "ruEn8kI14YKo",
        "colab": {
          "base_uri": "https://localhost:8080/",
          "height": 437
        },
        "outputId": "7e909894-2d5f-4c61-a991-b7ebf485b2ff"
      },
      "execution_count": null,
      "outputs": [
        {
          "output_type": "display_data",
          "data": {
            "text/plain": [
              "Plot with title “Boxplot da Altura”"
            ],
            "image/png": "[encoded data removed]"
          },
          "metadata": {
            "image/png": {
              "width": 420,
              "height": 420
            }
          }
        }
      ]
    },
    {
      "cell_type": "markdown",
      "source": [
        "**📌 O boxplot() ajuda a visualizar:**\n",
        "\n",
        "**✔ A mediana da variável.**\n",
        "\n",
        "**✔ A dispersão dos dados (quartis).**\n",
        "\n",
        "**✔ Outliers (valores atípicos que podem influenciar a análise).**"
      ],
      "metadata": {
        "id": "7TnhXTTm77SC"
      }
    },
    {
      "cell_type": "markdown",
      "source": [
        "# **Passo 8: ANOVA e Teste de Médias Fatorial em DBC**\n",
        "\n",
        "**Agora realizamos a análise de variância e o teste de comparação de médias.**"
      ],
      "metadata": {
        "id": "b4z_KkNA2AZF"
      }
    },
    {
      "cell_type": "code",
      "source": [
        "# ANOVA e Teste de Tukey para DIC\n",
        "fat2.dbc(dados$clones, dados$espacamento, dados$blocos, dados$diametro,\n",
        "    quali=c(TRUE, TRUE),       # Variável qualitativa (tratamento)\n",
        "    mcomp = 'tukey',    # Teste de Tukey para comparar médias\n",
        "    fac.names = c('Clones','Espaçamentos'), # Definir o nome para as variáveis\n",
        "    sigT = 0.05,        # Nível de significância para o teste de médias\n",
        "    sigF = 0.05)        # Nível de significância para a ANOVA"
      ],
      "metadata": {
        "id": "iEIOgOlL2l4a",
        "colab": {
          "base_uri": "https://localhost:8080/"
        },
        "outputId": "ccc347ef-45b7-48f5-90f9-9a249dd7ba03"
      },
      "execution_count": null,
      "outputs": [
        {
          "output_type": "stream",
          "name": "stdout",
          "text": [
            "------------------------------------------------------------------------\n",
            "Legenda:\n",
            "FATOR 1:  Clones \n",
            "FATOR 2:  Espaçamentos \n",
            "------------------------------------------------------------------------\n",
            "\n",
            "\n",
            "Quadro da analise de variancia\n",
            "------------------------------------------------------------------------\n",
            "                    GL      SQ QM     Fc   Pr>Fc\n",
            "Bloco                3    0.05  2    0.2 0.88637\n",
            "Clones               2    4.30  4   28.0 0.00000\n",
            "Espaçamentos         4 1199.79  6 3904.7 0.00000\n",
            "Clones*Espaçamentos  8   20.37  5   33.1 0.00000\n",
            "Residuo             42    3.23  3               \n",
            "Total               59 1227.73  1               \n",
            "------------------------------------------------------------------------\n",
            "CV = 2.9 %\n",
            "\n",
            "------------------------------------------------------------------------\n",
            "Teste de normalidade dos residuos (Shapiro-Wilk)\n",
            "valor-p:  0.6379961 \n",
            "De acordo com o teste de Shapiro-Wilk a 5% de significancia, os residuos podem ser considerados normais.\n",
            "------------------------------------------------------------------------\n",
            "\n",
            "\n",
            "\n",
            "Interacao significativa: desdobrando a interacao\n",
            "------------------------------------------------------------------------\n",
            "\n",
            "Desdobrando  Clones  dentro de cada nivel de  Espaçamentos \n",
            "------------------------------------------------------------------------\n",
            "------------------------------------------------------------------------\n",
            "Quadro da analise de variancia\n",
            "------------------------------------------------------------------------\n",
            "                        GL         SQ        QM       Fc  Pr.Fc\n",
            "Bloco                    3    0.04924   0.01641   0.2137 0.8864\n",
            "Espaçamentos             4 1199.79188 299.94797 3904.713      0\n",
            "Clones:Espaçamentos 2    2    0.34802   0.17401   2.2652 0.1163\n",
            "Clones:Espaçamentos 2.5  2    0.32060   0.16030   2.0868 0.1368\n",
            "Clones:Espaçamentos 5    2    4.36432   2.18216  28.4073      0\n",
            "Clones:Espaçamentos 6    2    7.58702   3.79351  49.3838      0\n",
            "Clones:Espaçamentos 7.5  2   12.04632   6.02316  78.4093      0\n",
            "Residuo                 42    3.22631   0.07682                \n",
            "Total                   59 1227.73369  20.80905                \n",
            "------------------------------------------------------------------------\n",
            "\n",
            "\n",
            "\n",
            " Clones  dentro do nivel  2  de  Espaçamentos \n",
            "\n",
            "De acordo com o teste F, as medias desse fator sao estatisticamente iguais.\n",
            "------------------------------------------------------------------------\n",
            "  Niveis Medias\n",
            "1  Euca1 3.9825\n",
            "2  Euca2 3.8850\n",
            "3  Euca3 3.5825\n",
            "------------------------------------------------------------------------\n",
            "\n",
            "\n",
            " Clones  dentro do nivel  2.5  de  Espaçamentos \n",
            "\n",
            "De acordo com o teste F, as medias desse fator sao estatisticamente iguais.\n",
            "------------------------------------------------------------------------\n",
            "  Niveis Medias\n",
            "1  Euca1 5.4375\n",
            "2  Euca2 5.0375\n",
            "3  Euca3 5.2225\n",
            "------------------------------------------------------------------------\n",
            "\n",
            "\n",
            " Clones  dentro do nivel  5  de  Espaçamentos \n",
            "------------------------------------------------------------------------\n",
            "Teste de Tukey\n",
            "------------------------------------------------------------------------\n",
            "Grupos Tratamentos Medias\n",
            "a \t Euca2 \t 11.3375 \n",
            " b \t Euca1 \t 10.1325 \n",
            " b \t Euca3 \t 9.995 \n",
            "------------------------------------------------------------------------\n",
            "\n",
            "\n",
            " Clones  dentro do nivel  6  de  Espaçamentos \n",
            "------------------------------------------------------------------------\n",
            "Teste de Tukey\n",
            "------------------------------------------------------------------------\n",
            "Grupos Tratamentos Medias\n",
            "a \t Euca3 \t 13.6875 \n",
            " b \t Euca2 \t 12.025 \n",
            " b \t Euca1 \t 11.9775 \n",
            "------------------------------------------------------------------------\n",
            "\n",
            "\n",
            " Clones  dentro do nivel  7.5  de  Espaçamentos \n",
            "------------------------------------------------------------------------\n",
            "Teste de Tukey\n",
            "------------------------------------------------------------------------\n",
            "Grupos Tratamentos Medias\n",
            "a \t Euca3 \t 17.1625 \n",
            " b \t Euca2 \t 15.2 \n",
            " b \t Euca1 \t 14.905 \n",
            "------------------------------------------------------------------------\n",
            "\n",
            "\n",
            "\n",
            "Desdobrando  Espaçamentos  dentro de cada nivel de  Clones \n",
            "------------------------------------------------------------------------\n",
            "------------------------------------------------------------------------\n",
            "Quadro da analise de variancia\n",
            "------------------------------------------------------------------------\n",
            "                          GL         SQ        QM        Fc  Pr.Fc\n",
            "Bloco                      3    0.04924   0.01641    0.2137 0.8864\n",
            "Clones                     2    4.30025   2.15013   27.9903      0\n",
            "Espaçamentos:Clones Euca1  4  329.88782  82.47196 1073.6173      0\n",
            "Espaçamentos:Clones Euca2  4  374.73647  93.68412 1219.5768      0\n",
            "Espaçamentos:Clones Euca3  4  515.53360 128.88340    1677.8      0\n",
            "Residuo                   42    3.22631   0.07682                 \n",
            "Total                     59 1227.73369  20.80905                 \n",
            "------------------------------------------------------------------------\n",
            "\n",
            "\n",
            "\n",
            " Espaçamentos  dentro do nivel  Euca1  de  Clones \n",
            "------------------------------------------------------------------------\n",
            "Teste de Tukey\n",
            "------------------------------------------------------------------------\n",
            "Grupos Tratamentos Medias\n",
            "a \t 7.5 \t 14.905 \n",
            " b \t 6 \t 11.9775 \n",
            "  c \t 5 \t 10.1325 \n",
            "   d \t 2.5 \t 5.4375 \n",
            "    e \t 2 \t 3.9825 \n",
            "------------------------------------------------------------------------\n",
            "\n",
            "\n",
            " Espaçamentos  dentro do nivel  Euca2  de  Clones \n",
            "------------------------------------------------------------------------\n",
            "Teste de Tukey\n",
            "------------------------------------------------------------------------\n",
            "Grupos Tratamentos Medias\n",
            "a \t 7.5 \t 15.2 \n",
            " b \t 6 \t 12.025 \n",
            "  c \t 5 \t 11.3375 \n",
            "   d \t 2.5 \t 5.0375 \n",
            "    e \t 2 \t 3.885 \n",
            "------------------------------------------------------------------------\n",
            "\n",
            "\n",
            " Espaçamentos  dentro do nivel  Euca3  de  Clones \n",
            "------------------------------------------------------------------------\n",
            "Teste de Tukey\n",
            "------------------------------------------------------------------------\n",
            "Grupos Tratamentos Medias\n",
            "a \t 7.5 \t 17.1625 \n",
            " b \t 6 \t 13.6875 \n",
            "  c \t 5 \t 9.995 \n",
            "   d \t 2.5 \t 5.2225 \n",
            "    e \t 2 \t 3.5825 \n",
            "------------------------------------------------------------------------\n"
          ]
        }
      ]
    },
    {
      "cell_type": "markdown",
      "source": [
        "**📌 O fat2.dbc() realiza a ANOVA e o Teste de Tukey para um Fatorial duplo em Delineamento em Blocos ao Acaso (DBC).**\n",
        "\n",
        "**📌 O teste de Bartlett verifica se as variâncias entre os grupos são homogêneas (princípio da ANOVA).**\n",
        "\n",
        "**📌 O Teste de Tukey compara as médias e indica diferenças estatísticas entre os tratamentos.**"
      ],
      "metadata": {
        "id": "tfbLNf2Y2nxK"
      }
    },
    {
      "cell_type": "markdown",
      "source": [
        "**📌 Conclusão**\n",
        "\n",
        "**Este código cobre desde a importação dos dados até a realização da análise estatística. Ele permite:**\n",
        "\n",
        "**✔ Explorar os dados e verificar sua distribuição.**\n",
        "\n",
        "**✔ Aplicar ANOVA para identificar diferenças entre os tratamentos.**\n",
        "\n",
        "**✔ Utilizar o Teste de Tukey para determinar quais grupos diferem significativamente.**\n",
        "\n",
        "**Agora, podemos interpretar os resultados e visualizar as diferenças entre os tratamentos! 🚀**"
      ],
      "metadata": {
        "id": "UIsAVUp42s9B"
      }
    }
  ]
}