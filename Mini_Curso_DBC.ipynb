{
  "nbformat": 4,
  "nbformat_minor": 0,
  "metadata": {
    "colab": {
      "provenance": []
    },
    "kernelspec": {
      "name": "ir",
      "display_name": "R"
    },
    "language_info": {
      "name": "R"
    }
  },
  "cells": [
    {
      "cell_type": "markdown",
      "source": [
        "# **Passo 1: Instalar as Bibliotecas**\n",
        "\n",
        "**Antes de começar a análise, precisamos instalar os pacotes necessários**"
      ],
      "metadata": {
        "id": "bhIBeRmNxoUU"
      }
    },
    {
      "cell_type": "code",
      "execution_count": 3,
      "metadata": {
        "id": "z272o4vAwxs9",
        "colab": {
          "base_uri": "https://localhost:8080/"
        },
        "outputId": "0c81fd43-b18e-4b1d-f986-1638d947fcd3"
      },
      "outputs": [
        {
          "output_type": "stream",
          "name": "stderr",
          "text": [
            "Installing package into ‘/usr/local/lib/R/site-library’\n",
            "(as ‘lib’ is unspecified)\n",
            "\n",
            "also installing the dependency ‘stargazer’\n",
            "\n",
            "\n",
            "Installing package into ‘/usr/local/lib/R/site-library’\n",
            "(as ‘lib’ is unspecified)\n",
            "\n"
          ]
        }
      ],
      "source": [
        "# Instalar bibliotecas\n",
        "install.packages('ExpDes.pt')  # Pacote para análises estatísticas experimentais\n",
        "install.packages('readxl')      # Pacote para ler arquivos do Excel"
      ]
    },
    {
      "cell_type": "markdown",
      "source": [
        "**📌 ExpDes.pt: Facilita análises experimentais como ANOVA e Testes de Médias.**\n",
        "\n",
        "**📌 readxl: Permite a importação de arquivos do Excel para o R.**"
      ],
      "metadata": {
        "id": "zJOG9ZxEzrJj"
      }
    },
    {
      "cell_type": "markdown",
      "source": [
        "# **Passo 2: Importar as Bibliotecas**\n",
        "\n",
        "**Após a instalação, carregamos as bibliotecas para usá-las no código.**"
      ],
      "metadata": {
        "id": "Oq8KSDqM0OIR"
      }
    },
    {
      "cell_type": "code",
      "source": [
        "# Importar Bibliotecas\n",
        "library('ExpDes.pt')\n",
        "library('readxl')"
      ],
      "metadata": {
        "id": "gdb0it0C0LXr"
      },
      "execution_count": 4,
      "outputs": []
    },
    {
      "cell_type": "markdown",
      "source": [
        "**📌 library() carrega os pacotes para serem utilizados no ambiente do R.**"
      ],
      "metadata": {
        "id": "EGR0mR3b0z0c"
      }
    },
    {
      "cell_type": "markdown",
      "source": [
        "# **Passo 3: Importar os Dados**\n",
        "\n",
        "**Agora, importamos o arquivo Excel que contém os dados do experimento.**"
      ],
      "metadata": {
        "id": "Vsh4XGg502Wi"
      }
    },
    {
      "cell_type": "code",
      "source": [
        "# Importando os dados\n",
        "dados <- read_excel('/content/mini_curso_dbc.xlsx')"
      ],
      "metadata": {
        "id": "_4lKnUDl09kp"
      },
      "execution_count": 5,
      "outputs": []
    },
    {
      "cell_type": "markdown",
      "source": [
        "**📌 read_excel() lê arquivos do Excel. O caminho do arquivo deve estar correto.**\n",
        "\n",
        "**❗ Dica: Se o arquivo estiver no Google Drive, primeiro ele precisa ser carregado para a pasta correta.**\n"
      ],
      "metadata": {
        "id": "Eq-mdyU31BZ7"
      }
    },
    {
      "cell_type": "markdown",
      "source": [
        "# **Passo 4: Visualizar os Dados**\n",
        "\n",
        "**É sempre importante verificar os dados antes de realizar análises.**"
      ],
      "metadata": {
        "id": "tbTE8ODf1H9Z"
      }
    },
    {
      "cell_type": "code",
      "source": [
        "# Ler os primeiros registros do dataset\n",
        "head(dados)"
      ],
      "metadata": {
        "colab": {
          "base_uri": "https://localhost:8080/",
          "height": 286
        },
        "id": "NG05RtMV1Tab",
        "outputId": "52520952-bd54-498a-a31b-c3db7c28c9dc"
      },
      "execution_count": 6,
      "outputs": [
        {
          "output_type": "display_data",
          "data": {
            "text/html": [
              "<table class=\"dataframe\">\n",
              "<caption>A tibble: 6 × 4</caption>\n",
              "<thead>\n",
              "\t<tr><th scope=col>especies</th><th scope=col>bloco</th><th scope=col>altura</th><th scope=col>diametro</th></tr>\n",
              "\t<tr><th scope=col>&lt;chr&gt;</th><th scope=col>&lt;dbl&gt;</th><th scope=col>&lt;dbl&gt;</th><th scope=col>&lt;dbl&gt;</th></tr>\n",
              "</thead>\n",
              "<tbody>\n",
              "\t<tr><td>Acácia</td><td>1</td><td>4.65</td><td> 5.41</td></tr>\n",
              "\t<tr><td>Acácia</td><td>1</td><td>4.52</td><td> 4.14</td></tr>\n",
              "\t<tr><td>Acácia</td><td>1</td><td>5.36</td><td> 3.83</td></tr>\n",
              "\t<tr><td>Acácia</td><td>1</td><td>4.18</td><td> 3.21</td></tr>\n",
              "\t<tr><td>Acácia</td><td>1</td><td>5.69</td><td> 5.45</td></tr>\n",
              "\t<tr><td>Acácia</td><td>1</td><td>8.84</td><td>12.37</td></tr>\n",
              "</tbody>\n",
              "</table>\n"
            ],
            "text/markdown": "\nA tibble: 6 × 4\n\n| especies &lt;chr&gt; | bloco &lt;dbl&gt; | altura &lt;dbl&gt; | diametro &lt;dbl&gt; |\n|---|---|---|---|\n| Acácia | 1 | 4.65 |  5.41 |\n| Acácia | 1 | 4.52 |  4.14 |\n| Acácia | 1 | 5.36 |  3.83 |\n| Acácia | 1 | 4.18 |  3.21 |\n| Acácia | 1 | 5.69 |  5.45 |\n| Acácia | 1 | 8.84 | 12.37 |\n\n",
            "text/latex": "A tibble: 6 × 4\n\\begin{tabular}{llll}\n especies & bloco & altura & diametro\\\\\n <chr> & <dbl> & <dbl> & <dbl>\\\\\n\\hline\n\t Acácia & 1 & 4.65 &  5.41\\\\\n\t Acácia & 1 & 4.52 &  4.14\\\\\n\t Acácia & 1 & 5.36 &  3.83\\\\\n\t Acácia & 1 & 4.18 &  3.21\\\\\n\t Acácia & 1 & 5.69 &  5.45\\\\\n\t Acácia & 1 & 8.84 & 12.37\\\\\n\\end{tabular}\n",
            "text/plain": [
              "  especies bloco altura diametro\n",
              "1 Acácia   1     4.65    5.41   \n",
              "2 Acácia   1     4.52    4.14   \n",
              "3 Acácia   1     5.36    3.83   \n",
              "4 Acácia   1     4.18    3.21   \n",
              "5 Acácia   1     5.69    5.45   \n",
              "6 Acácia   1     8.84   12.37   "
            ]
          },
          "metadata": {}
        }
      ]
    },
    {
      "cell_type": "markdown",
      "source": [
        "**📌 head() mostra as primeiras linhas do conjunto de dados.**"
      ],
      "metadata": {
        "id": "l_sVPHeP1V5J"
      }
    },
    {
      "cell_type": "markdown",
      "source": [
        "# **Passo 5: Resumo Estatístico dos Dados**\n",
        "\n",
        "**Podemos obter estatísticas descritivas rapidamente com a função summary().**"
      ],
      "metadata": {
        "id": "OYfcueQf1XbR"
      }
    },
    {
      "cell_type": "code",
      "source": [
        "# Resumo estatístico dos dados\n",
        "summary(dados)"
      ],
      "metadata": {
        "colab": {
          "base_uri": "https://localhost:8080/",
          "height": 139
        },
        "id": "t98bXwO91vHd",
        "outputId": "cc9c71f4-4f02-40b6-db82-7fb4b4c1daaa"
      },
      "execution_count": 7,
      "outputs": [
        {
          "output_type": "display_data",
          "data": {
            "text/plain": [
              "   especies             bloco           altura          diametro     \n",
              " Length:175         Min.   :1.000   Min.   : 3.520   Min.   : 2.210  \n",
              " Class :character   1st Qu.:1.000   1st Qu.: 5.795   1st Qu.: 6.435  \n",
              " Mode  :character   Median :3.000   Median : 7.100   Median : 7.970  \n",
              "                    Mean   :2.463   Mean   : 7.405   Mean   : 7.914  \n",
              "                    3rd Qu.:4.000   3rd Qu.: 9.125   3rd Qu.: 9.567  \n",
              "                    Max.   :4.000   Max.   :11.990   Max.   :12.414  "
            ]
          },
          "metadata": {}
        }
      ]
    },
    {
      "cell_type": "markdown",
      "source": [
        "**📌 O summary() fornece informações como:**\n",
        "\n",
        "**✔ Mínimo, máximo, média e mediana das variáveis numéricas.**\n",
        "\n",
        "**✔ Frequência de variáveis categóricas.**"
      ],
      "metadata": {
        "id": "0wOYzBTu1xoi"
      }
    },
    {
      "cell_type": "markdown",
      "source": [
        "# **Passo 6: Analisar a Distribuição da Variável \"Altura\"**\n",
        "\n",
        "**Para visualizar a distribuição dos dados, utilizamos um histograma.**"
      ],
      "metadata": {
        "id": "Mn9qYUV_13J5"
      }
    },
    {
      "cell_type": "code",
      "source": [
        "# Avaliar distribuição da variável \"altura\"\n",
        "hist(dados$altura,\n",
        "     main='Frequência de distribuição de dados', # Título\n",
        "     xlab='Altura', # Nome do eixo X\n",
        "     ylab='Frequência',  # Nome do eixo y\n",
        "     col='blue', # Cor das barras\n",
        "     border='black') # Cor da borda das barras"
      ],
      "metadata": {
        "colab": {
          "base_uri": "https://localhost:8080/",
          "height": 437
        },
        "id": "MOMkry1U19w5",
        "outputId": "e6bade75-8b95-4f0d-ad0f-1338bd138a37",
        "collapsed": true
      },
      "execution_count": 8,
      "outputs": [
        {
          "output_type": "display_data",
          "data": {
            "text/plain": [
              "Plot with title “Frequência de distribuição de dados”"
            ],
            "image/png": "[encoded data removed]"
          },
          "metadata": {
            "image/png": {
              "width": 420,
              "height": 420
            }
          }
        }
      ]
    },
    {
      "cell_type": "markdown",
      "source": [
        "**📌 O hist() cria um histograma, permitindo verificar a normalidade dos dados.**"
      ],
      "metadata": {
        "id": "6ST-KLBl1-Wj"
      }
    },
    {
      "cell_type": "markdown",
      "source": [
        "# **Passo 7: Boxplot da Variável**\n",
        "\n",
        "**O boxplot é uma ferramenta útil para visualizar a dispersão dos dados e identificar possíveis outliers.**"
      ],
      "metadata": {
        "id": "z2bqoKxb4Vj6"
      }
    },
    {
      "cell_type": "code",
      "source": [
        "# Criar um boxplot para a variável \"altura\"\n",
        "boxplot(dados$altura,\n",
        "        main = \"Boxplot da Altura\", # Título do gráfico\n",
        "        ylab = \"Altura (m)\", col = \"lightblue\", # Cor do box\n",
        "        border = \"black\") # Cor da borda"
      ],
      "metadata": {
        "id": "ruEn8kI14YKo",
        "colab": {
          "base_uri": "https://localhost:8080/",
          "height": 437
        },
        "outputId": "11d78bbc-a403-462c-ed89-526a4652a2c6"
      },
      "execution_count": 9,
      "outputs": [
        {
          "output_type": "display_data",
          "data": {
            "text/plain": [
              "Plot with title “Boxplot da Altura”"
            ],
            "image/png": "[encoded data removed]"
          },
          "metadata": {
            "image/png": {
              "width": 420,
              "height": 420
            }
          }
        }
      ]
    },
    {
      "cell_type": "markdown",
      "source": [
        "**📌 O boxplot() ajuda a visualizar:**\n",
        "\n",
        "**✔ A mediana da variável.**\n",
        "\n",
        "**✔ A dispersão dos dados (quartis).**\n",
        "\n",
        "**✔ Outliers (valores atípicos que podem influenciar a análise).**"
      ],
      "metadata": {
        "id": "7TnhXTTm77SC"
      }
    },
    {
      "cell_type": "markdown",
      "source": [
        "# **Passo 8: ANOVA e Teste de Médias (DBC)**\n",
        "\n",
        "**Agora realizamos a análise de variância e o teste de comparação de médias.**"
      ],
      "metadata": {
        "id": "b4z_KkNA2AZF"
      }
    },
    {
      "cell_type": "code",
      "source": [
        "# ANOVA e Teste de Tukey para DBC\n",
        "dbc(dados$especies, dados$bloco, dados$altura,\n",
        "    quali = TRUE,       # Variável qualitativa (tratamento)\n",
        "    mcomp = 'tukey',    # Teste de Tukey para comparar médias\n",
        "    sigT = 0.05,        # Nível de significância para o teste de médias\n",
        "    sigF = 0.05)        # Nível de significância para a ANOVA"
      ],
      "metadata": {
        "colab": {
          "base_uri": "https://localhost:8080/"
        },
        "id": "iEIOgOlL2l4a",
        "outputId": "48b3deaf-e4d6-4596-bca8-e89c3a2444cb"
      },
      "execution_count": 11,
      "outputs": [
        {
          "output_type": "stream",
          "name": "stdout",
          "text": [
            "------------------------------------------------------------------------\n",
            "Quadro da analise de variancia\n",
            "------------------------------------------------------------------------\n",
            "            GL     SQ      QM      Fc      Pr>Fc\n",
            "Tratamento   2 478.02 239.011 187.791 0.0000e+00\n",
            "Bloco        3  39.33  13.112  10.302 2.9004e-06\n",
            "Residuo    169 215.09   1.273                   \n",
            "Total      174 732.45                           \n",
            "------------------------------------------------------------------------\n",
            "CV = 15.24 %\n",
            "\n",
            "------------------------------------------------------------------------\n",
            "Teste de normalidade dos residuos \n",
            "valor-p:  0.2587434 \n",
            "De acordo com o teste de Shapiro-Wilk a 5% de significancia, os residuos podem ser considerados normais.\n",
            "------------------------------------------------------------------------\n",
            "\n",
            "------------------------------------------------------------------------\n",
            "Teste de homogeneidade de variancia \n",
            "valor-p:  1 \n",
            "De acordo com o teste de oneillmathews a 5% de significancia, as variancias podem ser consideradas homogeneas.\n",
            "------------------------------------------------------------------------\n",
            "\n",
            "Teste de Tukey\n",
            "------------------------------------------------------------------------\n",
            "Grupos Tratamentos Medias\n",
            "a \t Eucalipto \t 9.58125 \n",
            " b \t Moringa \t 6.159286 \n",
            " b \t Acácia \t 6.14 \n",
            "------------------------------------------------------------------------\n"
          ]
        }
      ]
    },
    {
      "cell_type": "markdown",
      "source": [
        "**📌 O dbc() realiza a ANOVA e o Teste de Tukey para um Delineamento em Blocos Casualizados (DBC).**\n",
        "\n",
        "**📌 O teste de Bartlett verifica se as variâncias entre os grupos são homogêneas (princípio da ANOVA).**\n",
        "\n",
        "**📌 O Teste de Tukey compara as médias e indica diferenças estatísticas entre os tratamentos.**"
      ],
      "metadata": {
        "id": "tfbLNf2Y2nxK"
      }
    },
    {
      "cell_type": "markdown",
      "source": [
        "**📌 Conclusão**\n",
        "\n",
        "**Este código cobre desde a importação dos dados até a realização da análise estatística. Ele permite:**\n",
        "\n",
        "**✔ Explorar os dados e verificar sua distribuição.**\n",
        "\n",
        "**✔ Aplicar ANOVA para identificar diferenças entre os tratamentos.**\n",
        "\n",
        "**✔ Utilizar o Teste de Tukey para determinar quais grupos diferem significativamente.**\n",
        "\n",
        "**Agora, podemos interpretar os resultados e visualizar as diferenças entre os tratamentos! 🚀**"
      ],
      "metadata": {
        "id": "UIsAVUp42s9B"
      }
    }
  ]
}