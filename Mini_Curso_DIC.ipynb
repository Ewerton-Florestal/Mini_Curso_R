{
  "nbformat": 4,
  "nbformat_minor": 0,
  "metadata": {
    "colab": {
      "provenance": []
    },
    "kernelspec": {
      "name": "ir",
      "display_name": "R"
    },
    "language_info": {
      "name": "R"
    }
  },
  "cells": [
    {
      "cell_type": "markdown",
      "source": [
        "# **Passo 1: Instalar as Bibliotecas**\n",
        "\n",
        "**Antes de começar a análise, precisamos instalar os pacotes necessários**"
      ],
      "metadata": {
        "id": "bhIBeRmNxoUU"
      }
    },
    {
      "cell_type": "code",
      "execution_count": 12,
      "metadata": {
        "id": "z272o4vAwxs9",
        "colab": {
          "base_uri": "https://localhost:8080/"
        },
        "outputId": "a25f8b73-8edf-4a2e-8580-16a3666d75e1",
        "collapsed": true
      },
      "outputs": [
        {
          "output_type": "stream",
          "name": "stderr",
          "text": [
            "Installing package into ‘/usr/local/lib/R/site-library’\n",
            "(as ‘lib’ is unspecified)\n",
            "\n",
            "Warning message in install.packages(\"ExpDes.pt\"):\n",
            "“installation of package ‘ExpDes.pt’ had non-zero exit status”\n",
            "Installing package into ‘/usr/local/lib/R/site-library’\n",
            "(as ‘lib’ is unspecified)\n",
            "\n",
            "Warning message in install.packages(\"readxl\"):\n",
            "“installation of package ‘readxl’ had non-zero exit status”\n"
          ]
        }
      ],
      "source": [
        "# Instalar bibliotecas\n",
        "install.packages('ExpDes.pt')  # Pacote para análises estatísticas experimentais\n",
        "install.packages('readxl')      # Pacote para ler arquivos do Excel"
      ]
    },
    {
      "cell_type": "markdown",
      "source": [
        "**📌 ExpDes.pt: Facilita análises experimentais como ANOVA e Testes de Médias.**\n",
        "\n",
        "**📌 readxl: Permite a importação de arquivos do Excel para o R.**"
      ],
      "metadata": {
        "id": "zJOG9ZxEzrJj"
      }
    },
    {
      "cell_type": "markdown",
      "source": [
        "# **Passo 2: Importar as Bibliotecas**\n",
        "\n",
        "**Após a instalação, carregamos as bibliotecas para usá-las no código.**"
      ],
      "metadata": {
        "id": "Oq8KSDqM0OIR"
      }
    },
    {
      "cell_type": "code",
      "source": [
        "# Importar Bibliotecas\n",
        "library('ExpDes.pt')\n",
        "library('readxl')"
      ],
      "metadata": {
        "id": "gdb0it0C0LXr"
      },
      "execution_count": 13,
      "outputs": []
    },
    {
      "cell_type": "markdown",
      "source": [
        "**📌 library() carrega os pacotes para serem utilizados no ambiente do R.**"
      ],
      "metadata": {
        "id": "EGR0mR3b0z0c"
      }
    },
    {
      "cell_type": "markdown",
      "source": [
        "# **Passo 3: Importar os Dados**\n",
        "\n",
        "**Agora, importamos o arquivo Excel que contém os dados do experimento. Aqui, vamos importar direto do nosso computador**"
      ],
      "metadata": {
        "id": "Vsh4XGg502Wi"
      }
    },
    {
      "cell_type": "code",
      "source": [
        "# Importando os dados\n",
        "dados <- read_excel('/content/mini_curso_dic.xlsx')"
      ],
      "metadata": {
        "id": "_4lKnUDl09kp"
      },
      "execution_count": 23,
      "outputs": []
    },
    {
      "cell_type": "markdown",
      "source": [
        "**📌 read_excel() lê arquivos do Excel. O caminho do arquivo deve estar correto.**\n",
        "\n",
        "**❗ Dica: Se o arquivo estiver no Google Drive, primeiro ele precisa ser carregado para a pasta correta.**\n"
      ],
      "metadata": {
        "id": "Eq-mdyU31BZ7"
      }
    },
    {
      "cell_type": "markdown",
      "source": [
        "# **Passo 4: Visualizar os Dados**\n",
        "\n",
        "**É sempre importante verificar os dados antes de realizar análises.**"
      ],
      "metadata": {
        "id": "tbTE8ODf1H9Z"
      }
    },
    {
      "cell_type": "code",
      "source": [
        "# Ler os primeiros registros do dataset\n",
        "head(dados)"
      ],
      "metadata": {
        "colab": {
          "base_uri": "https://localhost:8080/",
          "height": 286
        },
        "id": "NG05RtMV1Tab",
        "outputId": "910f85d3-6681-422a-9d37-9f513e49e580"
      },
      "execution_count": 24,
      "outputs": [
        {
          "output_type": "display_data",
          "data": {
            "text/html": [
              "<table class=\"dataframe\">\n",
              "<caption>A tibble: 6 × 5</caption>\n",
              "<thead>\n",
              "\t<tr><th scope=col>tratamento</th><th scope=col>repeticao</th><th scope=col>altura</th><th scope=col>diametro</th><th scope=col>volume</th></tr>\n",
              "\t<tr><th scope=col>&lt;chr&gt;</th><th scope=col>&lt;dbl&gt;</th><th scope=col>&lt;dbl&gt;</th><th scope=col>&lt;dbl&gt;</th><th scope=col>&lt;dbl&gt;</th></tr>\n",
              "</thead>\n",
              "<tbody>\n",
              "\t<tr><td>sabia_1</td><td>1</td><td>6.0</td><td> 9.54</td><td>0.004495619</td></tr>\n",
              "\t<tr><td>sabia_1</td><td>2</td><td>6.2</td><td> 9.23</td><td>0.004494520</td></tr>\n",
              "\t<tr><td>sabia_1</td><td>3</td><td>6.1</td><td>10.18</td><td>0.004877166</td></tr>\n",
              "\t<tr><td>sabia_1</td><td>4</td><td>6.3</td><td> 9.10</td><td>0.004502688</td></tr>\n",
              "\t<tr><td>sabia_1</td><td>5</td><td>6.4</td><td> 9.10</td><td>0.004574159</td></tr>\n",
              "\t<tr><td>sabia_1</td><td>6</td><td>6.2</td><td> 9.29</td><td>0.004523736</td></tr>\n",
              "</tbody>\n",
              "</table>\n"
            ],
            "text/markdown": "\nA tibble: 6 × 5\n\n| tratamento &lt;chr&gt; | repeticao &lt;dbl&gt; | altura &lt;dbl&gt; | diametro &lt;dbl&gt; | volume &lt;dbl&gt; |\n|---|---|---|---|---|\n| sabia_1 | 1 | 6.0 |  9.54 | 0.004495619 |\n| sabia_1 | 2 | 6.2 |  9.23 | 0.004494520 |\n| sabia_1 | 3 | 6.1 | 10.18 | 0.004877166 |\n| sabia_1 | 4 | 6.3 |  9.10 | 0.004502688 |\n| sabia_1 | 5 | 6.4 |  9.10 | 0.004574159 |\n| sabia_1 | 6 | 6.2 |  9.29 | 0.004523736 |\n\n",
            "text/latex": "A tibble: 6 × 5\n\\begin{tabular}{lllll}\n tratamento & repeticao & altura & diametro & volume\\\\\n <chr> & <dbl> & <dbl> & <dbl> & <dbl>\\\\\n\\hline\n\t sabia\\_1 & 1 & 6.0 &  9.54 & 0.004495619\\\\\n\t sabia\\_1 & 2 & 6.2 &  9.23 & 0.004494520\\\\\n\t sabia\\_1 & 3 & 6.1 & 10.18 & 0.004877166\\\\\n\t sabia\\_1 & 4 & 6.3 &  9.10 & 0.004502688\\\\\n\t sabia\\_1 & 5 & 6.4 &  9.10 & 0.004574159\\\\\n\t sabia\\_1 & 6 & 6.2 &  9.29 & 0.004523736\\\\\n\\end{tabular}\n",
            "text/plain": [
              "  tratamento repeticao altura diametro volume     \n",
              "1 sabia_1    1         6.0     9.54    0.004495619\n",
              "2 sabia_1    2         6.2     9.23    0.004494520\n",
              "3 sabia_1    3         6.1    10.18    0.004877166\n",
              "4 sabia_1    4         6.3     9.10    0.004502688\n",
              "5 sabia_1    5         6.4     9.10    0.004574159\n",
              "6 sabia_1    6         6.2     9.29    0.004523736"
            ]
          },
          "metadata": {}
        }
      ]
    },
    {
      "cell_type": "markdown",
      "source": [
        "**📌 head() mostra as primeiras linhas do conjunto de dados.**"
      ],
      "metadata": {
        "id": "l_sVPHeP1V5J"
      }
    },
    {
      "cell_type": "markdown",
      "source": [
        "# **Passo 5: Resumo Estatístico dos Dados**\n",
        "\n",
        "**Podemos obter estatísticas descritivas rapidamente com a função summary().**"
      ],
      "metadata": {
        "id": "OYfcueQf1XbR"
      }
    },
    {
      "cell_type": "code",
      "source": [
        "# Resumo estatístico dos dados\n",
        "summary(dados)"
      ],
      "metadata": {
        "colab": {
          "base_uri": "https://localhost:8080/",
          "height": 260
        },
        "id": "t98bXwO91vHd",
        "outputId": "d7ff0ebf-a01a-4eef-df48-116cac63c50c"
      },
      "execution_count": 25,
      "outputs": [
        {
          "output_type": "display_data",
          "data": {
            "text/plain": [
              "  tratamento          repeticao        altura         diametro     \n",
              " Length:40          Min.   : 1.0   Min.   :5.700   Min.   : 8.100  \n",
              " Class :character   1st Qu.: 3.0   1st Qu.:5.975   1st Qu.: 9.075  \n",
              " Mode  :character   Median : 5.5   Median :6.900   Median : 9.520  \n",
              "                    Mean   : 5.5   Mean   :6.897   Mean   : 9.586  \n",
              "                    3rd Qu.: 8.0   3rd Qu.:7.775   3rd Qu.:10.018  \n",
              "                    Max.   :10.0   Max.   :8.200   Max.   :10.940  \n",
              "     volume        \n",
              " Min.   :0.004145  \n",
              " 1st Qu.:0.004495  \n",
              " Median :0.004792  \n",
              " Mean   :0.005204  \n",
              " 3rd Qu.:0.005748  \n",
              " Max.   :0.006994  "
            ]
          },
          "metadata": {}
        }
      ]
    },
    {
      "cell_type": "markdown",
      "source": [
        "**📌 O summary() fornece informações como:**\n",
        "\n",
        "**✔ Mínimo, máximo, média e mediana das variáveis numéricas.**\n",
        "\n",
        "**✔ Frequência de variáveis categóricas.**"
      ],
      "metadata": {
        "id": "0wOYzBTu1xoi"
      }
    },
    {
      "cell_type": "markdown",
      "source": [
        "# **Passo 6: Analisar a Distribuição da Variável \"Altura\"**\n",
        "\n",
        "**Para visualizar a distribuição dos dados, utilizamos um histograma.**"
      ],
      "metadata": {
        "id": "Mn9qYUV_13J5"
      }
    },
    {
      "cell_type": "code",
      "source": [
        "# Avaliar distribuição da variável \"altura\"\n",
        "hist(dados$altura,\n",
        "     main='Frequência de distribuição de dados', # Título\n",
        "     xlab='Altura', # Nome do eixo X\n",
        "     ylab='Frequência',  # Nome do eixo y\n",
        "     col='blue', # Cor das barras\n",
        "     border='black') # Cor da borda das barras"
      ],
      "metadata": {
        "colab": {
          "base_uri": "https://localhost:8080/",
          "height": 437
        },
        "id": "MOMkry1U19w5",
        "outputId": "d227b97c-d0fe-4dcc-a1d1-34bb55c4d1b7",
        "collapsed": true
      },
      "execution_count": 19,
      "outputs": [
        {
          "output_type": "display_data",
          "data": {
            "text/plain": [
              "Plot with title “Frequência de distribuição de dados”"
            ],
            "image/png": "[encoded data removed]"
          },
          "metadata": {
            "image/png": {
              "width": 420,
              "height": 420
            }
          }
        }
      ]
    },
    {
      "cell_type": "markdown",
      "source": [
        "**📌 O hist() cria um histograma, permitindo verificar a normalidade dos dados.**"
      ],
      "metadata": {
        "id": "6ST-KLBl1-Wj"
      }
    },
    {
      "cell_type": "markdown",
      "source": [
        "# **Passo 7: Boxplot da Variável**\n",
        "\n",
        "**O boxplot é uma ferramenta útil para visualizar a dispersão dos dados e identificar possíveis outliers.**"
      ],
      "metadata": {
        "id": "z2bqoKxb4Vj6"
      }
    },
    {
      "cell_type": "code",
      "source": [
        "# Criar um boxplot para a variável \"altura\"\n",
        "boxplot(dados$altura,\n",
        "        main = \"Boxplot da Altura\", # Título do gráfico\n",
        "        ylab = \"Altura (m)\", col = \"lightblue\", # Cor do box\n",
        "        border = \"black\") # Cor da borda"
      ],
      "metadata": {
        "id": "ruEn8kI14YKo",
        "colab": {
          "base_uri": "https://localhost:8080/",
          "height": 0
        },
        "outputId": "905113ba-6810-4aad-adbc-09e23f05ac75"
      },
      "execution_count": 22,
      "outputs": [
        {
          "output_type": "display_data",
          "data": {
            "text/plain": [
              "Plot with title “Boxplot da Altura”"
            ],
            "image/png": "[encoded data removed]"
          },
          "metadata": {
            "image/png": {
              "width": 420,
              "height": 420
            }
          }
        }
      ]
    },
    {
      "cell_type": "markdown",
      "source": [
        "**📌 O boxplot() ajuda a visualizar:**\n",
        "\n",
        "**✔ A mediana da variável.**\n",
        "\n",
        "**✔ A dispersão dos dados (quartis).**\n",
        "\n",
        "**✔ Outliers (valores atípicos que podem influenciar a análise).**\n"
      ],
      "metadata": {
        "id": "DLT-NjcT75l7"
      }
    },
    {
      "cell_type": "markdown",
      "source": [
        "# **Passo 8: ANOVA e Teste de Médias (DIC)**\n",
        "\n",
        "**Agora realizamos a análise de variância e o teste de comparação de médias.**"
      ],
      "metadata": {
        "id": "b4z_KkNA2AZF"
      }
    },
    {
      "cell_type": "code",
      "source": [
        "# ANOVA e Teste de Tukey para DIC\n",
        "dic(dados$tratamento, dados$altura,\n",
        "    quali = TRUE,       # Variável qualitativa (tratamento)\n",
        "    mcomp = 'tukey',    # Teste de Tukey para comparar médias\n",
        "    hvar = 'bartlett',  # Teste de homogeneidade de variâncias de Bartlett\n",
        "    sigT = 0.05,        # Nível de significância para o teste de médias\n",
        "    sigF = 0.05)        # Nível de significância para a ANOVA"
      ],
      "metadata": {
        "colab": {
          "base_uri": "https://localhost:8080/"
        },
        "id": "iEIOgOlL2l4a",
        "outputId": "98fa66a0-922e-4605-e79f-c115f2389345",
        "collapsed": true
      },
      "execution_count": 27,
      "outputs": [
        {
          "output_type": "stream",
          "name": "stdout",
          "text": [
            "------------------------------------------------------------------------\n",
            "Quadro da analise de variancia\n",
            "------------------------------------------------------------------------\n",
            "           GL     SQ      QM     Fc      Pr>Fc\n",
            "Tratamento  3 35.289 11.7629 1111.5 1.5923e-35\n",
            "Residuo    36  0.381  0.0106                  \n",
            "Total      39 35.670                          \n",
            "------------------------------------------------------------------------\n",
            "CV = 1.49 %\n",
            "\n",
            "------------------------------------------------------------------------\n",
            "Teste de normalidade dos residuos ( Shapiro-Wilk ) \n",
            "Valor-p:  0.1534724 \n",
            "De acordo com o teste de Shapiro-Wilk a 5% de significancia, os residuos podem ser considerados normais.\n",
            "------------------------------------------------------------------------\n",
            "\n",
            "------------------------------------------------------------------------\n",
            "Teste de homogeneidade de variancia \n",
            "valor-p:  0.4867035 \n",
            "De acordo com o teste de bartlett a 5% de significancia, as variancias podem ser consideradas homogeneas.\n",
            "------------------------------------------------------------------------\n",
            "\n",
            "Teste de Tukey\n",
            "------------------------------------------------------------------------\n",
            "Grupos Tratamentos Medias\n",
            "a \t sabia_4 \t 8.09 \n",
            " b \t sabia_2 \t 7.52 \n",
            "  c \t sabia_1 \t 6.18 \n",
            "   d \t sabia_3 \t 5.8 \n",
            "------------------------------------------------------------------------\n"
          ]
        }
      ]
    },
    {
      "cell_type": "markdown",
      "source": [
        "**📌 O dic() realiza a ANOVA e o Teste de Tukey para um Delineamento Inteiramente Casualizado (DIC).**\n",
        "\n",
        "**📌 O teste de Bartlett verifica se as variâncias entre os grupos são homogêneas (princípio da ANOVA).**\n",
        "\n",
        "**📌 O Teste de Tukey compara as médias e indica diferenças estatísticas entre os tratamentos.**"
      ],
      "metadata": {
        "id": "tfbLNf2Y2nxK"
      }
    },
    {
      "cell_type": "markdown",
      "source": [
        "**📌 Conclusão**\n",
        "\n",
        "**Este código cobre desde a importação dos dados até a realização da análise estatística. Ele permite:**\n",
        "\n",
        "**✔ Explorar os dados e verificar sua distribuição.**\n",
        "\n",
        "**✔ Aplicar ANOVA para identificar diferenças entre os tratamentos.**\n",
        "\n",
        "**✔ Utilizar o Teste de Tukey para determinar quais grupos diferem significativamente.**\n",
        "\n",
        "**Agora, podemos interpretar os resultados e visualizar as diferenças entre os tratamentos! 🚀**"
      ],
      "metadata": {
        "id": "UIsAVUp42s9B"
      }
    }
  ]
}